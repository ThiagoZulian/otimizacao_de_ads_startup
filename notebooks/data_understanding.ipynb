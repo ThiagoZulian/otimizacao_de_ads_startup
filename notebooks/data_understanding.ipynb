{
 "cells": [
  {
   "cell_type": "markdown",
   "id": "88d8b083",
   "metadata": {},
   "source": [
    "# Análise Exploratória - Vendas em uma Startup"
   ]
  },
  {
   "cell_type": "markdown",
   "id": "ad28e1a0",
   "metadata": {},
   "source": [
    "### Kedro"
   ]
  },
  {
   "cell_type": "code",
   "execution_count": 1,
   "id": "c7dcbdc4",
   "metadata": {},
   "outputs": [],
   "source": [
    "from typing import TYPE_CHECKING\n",
    "\n",
    "if TYPE_CHECKING:\n",
    "    from kedro.io import DataCatalog\n",
    "    catalog: DataCatalog"
   ]
  },
  {
   "cell_type": "code",
   "execution_count": 2,
   "id": "809010b5",
   "metadata": {},
   "outputs": [
    {
     "data": {
      "text/html": [
       "<pre style=\"white-space:pre;overflow-x:auto;line-height:normal;font-family:Menlo,'DejaVu Sans Mono',consolas,'Courier New',monospace\"><span style=\"color: #7fbfbf; text-decoration-color: #7fbfbf\">[09/09/25 23:17:08] </span><span style=\"color: #000080; text-decoration-color: #000080\">INFO    </span> Using <span style=\"color: #008000; text-decoration-color: #008000\">'c:\\Users\\Zeus\\Projetos\\Projetos DS\\Projetos </span>                    <span style=\"color: #7f7f7f; text-decoration-color: #7f7f7f\">__init__.py:270</span>\n",
       "<span style=\"color: #7fbfbf; text-decoration-color: #7fbfbf\">                    </span>         <span style=\"color: #008000; text-decoration-color: #008000\">Preditiva\\otimizacao-de-ads-para-startup\\.venv\\Lib\\site-packages\\kedro</span> <span style=\"color: #7f7f7f; text-decoration-color: #7f7f7f\">               </span>\n",
       "<span style=\"color: #7fbfbf; text-decoration-color: #7fbfbf\">                    </span>         <span style=\"color: #008000; text-decoration-color: #008000\">\\framework\\project\\rich_logging.yml'</span> as logging configuration.         <span style=\"color: #7f7f7f; text-decoration-color: #7f7f7f\">               </span>\n",
       "</pre>\n"
      ],
      "text/plain": [
       "\u001b[2;36m[09/09/25 23:17:08]\u001b[0m\u001b[2;36m \u001b[0m\u001b[34mINFO    \u001b[0m Using \u001b[32m'c:\\Users\\Zeus\\Projetos\\Projetos DS\\Projetos \u001b[0m                    \u001b[2m__init__.py\u001b[0m\u001b[2m:\u001b[0m\u001b[2m270\u001b[0m\n",
       "\u001b[2;36m                    \u001b[0m         \u001b[32mPreditiva\\otimizacao-de-ads-para-startup\\.venv\\Lib\\site-packages\\kedro\u001b[0m \u001b[2m               \u001b[0m\n",
       "\u001b[2;36m                    \u001b[0m         \u001b[32m\\framework\\project\\rich_logging.yml'\u001b[0m as logging configuration.         \u001b[2m               \u001b[0m\n"
      ]
     },
     "metadata": {},
     "output_type": "display_data"
    },
    {
     "data": {
      "text/html": [
       "<pre style=\"white-space:pre;overflow-x:auto;line-height:normal;font-family:Menlo,'DejaVu Sans Mono',consolas,'Courier New',monospace\"><span style=\"color: #7fbfbf; text-decoration-color: #7fbfbf\">                    </span><span style=\"color: #000080; text-decoration-color: #000080\">INFO    </span> Registered line magic <span style=\"color: #008000; text-decoration-color: #008000\">'%reload_kedro'</span>                                   <span style=\"color: #7f7f7f; text-decoration-color: #7f7f7f\">__init__.py:63</span>\n",
       "</pre>\n"
      ],
      "text/plain": [
       "\u001b[2;36m                   \u001b[0m\u001b[2;36m \u001b[0m\u001b[34mINFO    \u001b[0m Registered line magic \u001b[32m'%reload_kedro'\u001b[0m                                   \u001b[2m__init__.py\u001b[0m\u001b[2m:\u001b[0m\u001b[2m63\u001b[0m\n"
      ]
     },
     "metadata": {},
     "output_type": "display_data"
    },
    {
     "data": {
      "text/html": [
       "<pre style=\"white-space:pre;overflow-x:auto;line-height:normal;font-family:Menlo,'DejaVu Sans Mono',consolas,'Courier New',monospace\"><span style=\"color: #7fbfbf; text-decoration-color: #7fbfbf\">                    </span><span style=\"color: #000080; text-decoration-color: #000080\">INFO    </span> Registered line magic <span style=\"color: #008000; text-decoration-color: #008000\">'%load_node'</span>                                      <span style=\"color: #7f7f7f; text-decoration-color: #7f7f7f\">__init__.py:65</span>\n",
       "</pre>\n"
      ],
      "text/plain": [
       "\u001b[2;36m                   \u001b[0m\u001b[2;36m \u001b[0m\u001b[34mINFO    \u001b[0m Registered line magic \u001b[32m'%load_node'\u001b[0m                                      \u001b[2m__init__.py\u001b[0m\u001b[2m:\u001b[0m\u001b[2m65\u001b[0m\n"
      ]
     },
     "metadata": {},
     "output_type": "display_data"
    },
    {
     "data": {
      "text/html": [
       "<pre style=\"white-space:pre;overflow-x:auto;line-height:normal;font-family:Menlo,'DejaVu Sans Mono',consolas,'Courier New',monospace\"><span style=\"color: #7fbfbf; text-decoration-color: #7fbfbf\">                    </span><span style=\"color: #000080; text-decoration-color: #000080\">INFO    </span> Resolved project path as: c:\\Users\\Zeus\\Projetos\\Projetos DS\\Projetos  <span style=\"color: #7f7f7f; text-decoration-color: #7f7f7f\">__init__.py:180</span>\n",
       "<span style=\"color: #7fbfbf; text-decoration-color: #7fbfbf\">                    </span>         Preditiva\\otimizacao-de-ads-para-startup.                              <span style=\"color: #7f7f7f; text-decoration-color: #7f7f7f\">               </span>\n",
       "<span style=\"color: #7fbfbf; text-decoration-color: #7fbfbf\">                    </span>         To set a different path, run <span style=\"color: #008000; text-decoration-color: #008000\">'%reload_kedro &lt;project_root&gt;'</span>            <span style=\"color: #7f7f7f; text-decoration-color: #7f7f7f\">               </span>\n",
       "</pre>\n"
      ],
      "text/plain": [
       "\u001b[2;36m                   \u001b[0m\u001b[2;36m \u001b[0m\u001b[34mINFO    \u001b[0m Resolved project path as: c:\\Users\\Zeus\\Projetos\\Projetos DS\\Projetos  \u001b[2m__init__.py\u001b[0m\u001b[2m:\u001b[0m\u001b[2m180\u001b[0m\n",
       "\u001b[2;36m                    \u001b[0m         Preditiva\\otimizacao-de-ads-para-startup.                              \u001b[2m               \u001b[0m\n",
       "\u001b[2;36m                    \u001b[0m         To set a different path, run \u001b[32m'%reload_kedro \u001b[0m\u001b[32m<\u001b[0m\u001b[32mproject_root\u001b[0m\u001b[32m>\u001b[0m\u001b[32m'\u001b[0m            \u001b[2m               \u001b[0m\n"
      ]
     },
     "metadata": {},
     "output_type": "display_data"
    },
    {
     "data": {
      "text/html": [
       "<pre style=\"white-space:pre;overflow-x:auto;line-height:normal;font-family:Menlo,'DejaVu Sans Mono',consolas,'Courier New',monospace\"><span style=\"color: #7fbfbf; text-decoration-color: #7fbfbf\">[09/09/25 23:17:09] </span><span style=\"color: #000080; text-decoration-color: #000080\">INFO    </span> Kedro is sending anonymous usage data with the sole purpose of improving <span style=\"color: #7f7f7f; text-decoration-color: #7f7f7f\">plugin.py:243</span>\n",
       "<span style=\"color: #7fbfbf; text-decoration-color: #7fbfbf\">                    </span>         the product. No personal data or IP addresses are stored on our side. To <span style=\"color: #7f7f7f; text-decoration-color: #7f7f7f\">             </span>\n",
       "<span style=\"color: #7fbfbf; text-decoration-color: #7fbfbf\">                    </span>         opt out, set the `KEDRO_DISABLE_TELEMETRY` or `DO_NOT_TRACK` environment <span style=\"color: #7f7f7f; text-decoration-color: #7f7f7f\">             </span>\n",
       "<span style=\"color: #7fbfbf; text-decoration-color: #7fbfbf\">                    </span>         variables, or create a `.telemetry` file in the current working          <span style=\"color: #7f7f7f; text-decoration-color: #7f7f7f\">             </span>\n",
       "<span style=\"color: #7fbfbf; text-decoration-color: #7fbfbf\">                    </span>         directory with the contents `consent: false`. To hide this message,      <span style=\"color: #7f7f7f; text-decoration-color: #7f7f7f\">             </span>\n",
       "<span style=\"color: #7fbfbf; text-decoration-color: #7fbfbf\">                    </span>         explicitly grant or deny consent. Read more at                           <span style=\"color: #7f7f7f; text-decoration-color: #7f7f7f\">             </span>\n",
       "<span style=\"color: #7fbfbf; text-decoration-color: #7fbfbf\">                    </span>         <span style=\"color: #0000ff; text-decoration-color: #0000ff; text-decoration: underline\">https://docs.kedro.org/en/stable/configuration/telemetry.html</span>            <span style=\"color: #7f7f7f; text-decoration-color: #7f7f7f\">             </span>\n",
       "</pre>\n"
      ],
      "text/plain": [
       "\u001b[2;36m[09/09/25 23:17:09]\u001b[0m\u001b[2;36m \u001b[0m\u001b[34mINFO    \u001b[0m Kedro is sending anonymous usage data with the sole purpose of improving \u001b[2mplugin.py\u001b[0m\u001b[2m:\u001b[0m\u001b[2m243\u001b[0m\n",
       "\u001b[2;36m                    \u001b[0m         the product. No personal data or IP addresses are stored on our side. To \u001b[2m             \u001b[0m\n",
       "\u001b[2;36m                    \u001b[0m         opt out, set the `KEDRO_DISABLE_TELEMETRY` or `DO_NOT_TRACK` environment \u001b[2m             \u001b[0m\n",
       "\u001b[2;36m                    \u001b[0m         variables, or create a `.telemetry` file in the current working          \u001b[2m             \u001b[0m\n",
       "\u001b[2;36m                    \u001b[0m         directory with the contents `consent: false`. To hide this message,      \u001b[2m             \u001b[0m\n",
       "\u001b[2;36m                    \u001b[0m         explicitly grant or deny consent. Read more at                           \u001b[2m             \u001b[0m\n",
       "\u001b[2;36m                    \u001b[0m         \u001b[4;94mhttps://docs.kedro.org/en/stable/configuration/telemetry.html\u001b[0m            \u001b[2m             \u001b[0m\n"
      ]
     },
     "metadata": {},
     "output_type": "display_data"
    },
    {
     "data": {
      "text/html": [
       "<pre style=\"white-space:pre;overflow-x:auto;line-height:normal;font-family:Menlo,'DejaVu Sans Mono',consolas,'Courier New',monospace\"><span style=\"color: #7fbfbf; text-decoration-color: #7fbfbf\">[09/09/25 23:17:10] </span><span style=\"color: #000080; text-decoration-color: #000080\">INFO    </span> Kedro project Otimizacao de Ads para Startup                           <span style=\"color: #7f7f7f; text-decoration-color: #7f7f7f\">__init__.py:146</span>\n",
       "</pre>\n"
      ],
      "text/plain": [
       "\u001b[2;36m[09/09/25 23:17:10]\u001b[0m\u001b[2;36m \u001b[0m\u001b[34mINFO    \u001b[0m Kedro project Otimizacao de Ads para Startup                           \u001b[2m__init__.py\u001b[0m\u001b[2m:\u001b[0m\u001b[2m146\u001b[0m\n"
      ]
     },
     "metadata": {},
     "output_type": "display_data"
    },
    {
     "data": {
      "text/html": [
       "<pre style=\"white-space:pre;overflow-x:auto;line-height:normal;font-family:Menlo,'DejaVu Sans Mono',consolas,'Courier New',monospace\"><span style=\"color: #7fbfbf; text-decoration-color: #7fbfbf\">                    </span><span style=\"color: #000080; text-decoration-color: #000080\">INFO    </span> Defined global variable <span style=\"color: #008000; text-decoration-color: #008000\">'context'</span>, <span style=\"color: #008000; text-decoration-color: #008000\">'session'</span>, <span style=\"color: #008000; text-decoration-color: #008000\">'catalog'</span> and            <span style=\"color: #7f7f7f; text-decoration-color: #7f7f7f\">__init__.py:147</span>\n",
       "<span style=\"color: #7fbfbf; text-decoration-color: #7fbfbf\">                    </span>         <span style=\"color: #008000; text-decoration-color: #008000\">'pipelines'</span>                                                            <span style=\"color: #7f7f7f; text-decoration-color: #7f7f7f\">               </span>\n",
       "</pre>\n"
      ],
      "text/plain": [
       "\u001b[2;36m                   \u001b[0m\u001b[2;36m \u001b[0m\u001b[34mINFO    \u001b[0m Defined global variable \u001b[32m'context'\u001b[0m, \u001b[32m'session'\u001b[0m, \u001b[32m'catalog'\u001b[0m and            \u001b[2m__init__.py\u001b[0m\u001b[2m:\u001b[0m\u001b[2m147\u001b[0m\n",
       "\u001b[2;36m                    \u001b[0m         \u001b[32m'pipelines'\u001b[0m                                                            \u001b[2m               \u001b[0m\n"
      ]
     },
     "metadata": {},
     "output_type": "display_data"
    },
    {
     "data": {
      "text/html": [
       "<pre style=\"white-space:pre;overflow-x:auto;line-height:normal;font-family:Menlo,'DejaVu Sans Mono',consolas,'Courier New',monospace\"><span style=\"color: #7fbfbf; text-decoration-color: #7fbfbf\">[09/09/25 23:17:11] </span><span style=\"color: #000080; text-decoration-color: #000080\">INFO    </span> Registered line magic <span style=\"color: #008000; text-decoration-color: #008000\">'run_viz'</span>                                        <span style=\"color: #7f7f7f; text-decoration-color: #7f7f7f\">__init__.py:153</span>\n",
       "</pre>\n"
      ],
      "text/plain": [
       "\u001b[2;36m[09/09/25 23:17:11]\u001b[0m\u001b[2;36m \u001b[0m\u001b[34mINFO    \u001b[0m Registered line magic \u001b[32m'run_viz'\u001b[0m                                        \u001b[2m__init__.py\u001b[0m\u001b[2m:\u001b[0m\u001b[2m153\u001b[0m\n"
      ]
     },
     "metadata": {},
     "output_type": "display_data"
    }
   ],
   "source": [
    "%load_ext kedro.ipython"
   ]
  },
  {
   "cell_type": "markdown",
   "id": "15a60ed2",
   "metadata": {},
   "source": [
    "### Importações de Bibliotecas"
   ]
  },
  {
   "cell_type": "code",
   "execution_count": 3,
   "id": "8589a7f7",
   "metadata": {},
   "outputs": [],
   "source": [
    "\n",
    "# Importando as bibliotecas necessárias\n",
    "import warnings\n",
    "\n",
    "import matplotlib.pyplot as plt\n",
    "import numpy as np\n",
    "import pandas as pd\n",
    "import seaborn as sns\n"
   ]
  },
  {
   "cell_type": "code",
   "execution_count": 4,
   "id": "46329d5f",
   "metadata": {},
   "outputs": [],
   "source": [
    "\n",
    "# Configurações\n",
    "warnings.filterwarnings(\"ignore\")\n",
    "plt.style.use(\"seaborn-v0_8\")\n",
    "sns.set_palette(\"husl\")\n",
    "plt.rcParams[\"figure.figsize\"] = (12, 8)\n",
    "plt.rcParams[\"font.size\"] = 12\n",
    "\n",
    "# Configurando para exibir todas as colunas\n",
    "pd.set_option(\"display.max_columns\", None)\n",
    "pd.set_option(\"display.width\", None)\n"
   ]
  },
  {
   "cell_type": "markdown",
   "id": "04d5b178",
   "metadata": {},
   "source": [
    "## Visão inicial das bases disponíveis"
   ]
  },
  {
   "cell_type": "markdown",
   "id": "b77bd1e8",
   "metadata": {},
   "source": [
    "#### Metadados"
   ]
  },
  {
   "cell_type": "code",
   "execution_count": null,
   "id": "1cf0e55d",
   "metadata": {},
   "outputs": [],
   "source": [
    "df_campanha_metadados = catalog.load(\"metadados\")\n",
    "df_campanha_metadados"
   ]
  },
  {
   "cell_type": "code",
   "execution_count": null,
   "id": "0dd420cb",
   "metadata": {},
   "outputs": [],
   "source": [
    "# Aumentar o limite de largura da coluna para melhor visualização\n",
    "pd.set_option(\"display.max_colwidth\", None)\n",
    "df_campanha_metadados"
   ]
  },
  {
   "cell_type": "code",
   "execution_count": null,
   "id": "6585ff88",
   "metadata": {},
   "outputs": [],
   "source": [
    "# Voltando a visualização padrão\n",
    "pd.set_option(\"display.max_colwidth\", 50)"
   ]
  },
  {
   "cell_type": "markdown",
   "id": "2f997f2e",
   "metadata": {},
   "source": [
    "#### Campanha"
   ]
  },
  {
   "cell_type": "code",
   "execution_count": 14,
   "id": "cd45f5e7",
   "metadata": {},
   "outputs": [
    {
     "data": {
      "text/html": [
       "<pre style=\"white-space:pre;overflow-x:auto;line-height:normal;font-family:Menlo,'DejaVu Sans Mono',consolas,'Courier New',monospace\"><span style=\"color: #7fbfbf; text-decoration-color: #7fbfbf\">[09/09/25 23:18:55] </span><span style=\"color: #000080; text-decoration-color: #000080\">INFO    </span> Loading data from <span style=\"color: #ff8700; text-decoration-color: #ff8700\">campanhas</span> <span style=\"font-weight: bold\">(</span>ExcelDataset<span style=\"font-weight: bold\">)</span><span style=\"color: #808000; text-decoration-color: #808000\">...</span>                     <span style=\"color: #7f7f7f; text-decoration-color: #7f7f7f\">data_catalog.py:1046</span>\n",
       "</pre>\n"
      ],
      "text/plain": [
       "\u001b[2;36m[09/09/25 23:18:55]\u001b[0m\u001b[2;36m \u001b[0m\u001b[34mINFO    \u001b[0m Loading data from \u001b[38;5;208mcampanhas\u001b[0m \u001b[1m(\u001b[0mExcelDataset\u001b[1m)\u001b[0m\u001b[33m...\u001b[0m                     \u001b[2mdata_catalog.py\u001b[0m\u001b[2m:\u001b[0m\u001b[2m1046\u001b[0m\n"
      ]
     },
     "metadata": {},
     "output_type": "display_data"
    },
    {
     "data": {
      "text/html": [
       "<pre style=\"white-space:pre;overflow-x:auto;line-height:normal;font-family:Menlo,'DejaVu Sans Mono',consolas,'Courier New',monospace\"></pre>\n"
      ],
      "text/plain": []
     },
     "metadata": {},
     "output_type": "display_data"
    },
    {
     "data": {
      "text/html": [
       "<div>\n",
       "<style scoped>\n",
       "    .dataframe tbody tr th:only-of-type {\n",
       "        vertical-align: middle;\n",
       "    }\n",
       "\n",
       "    .dataframe tbody tr th {\n",
       "        vertical-align: top;\n",
       "    }\n",
       "\n",
       "    .dataframe thead th {\n",
       "        text-align: right;\n",
       "    }\n",
       "</style>\n",
       "<table border=\"1\" class=\"dataframe\">\n",
       "  <thead>\n",
       "    <tr style=\"text-align: right;\">\n",
       "      <th></th>\n",
       "      <th>id_do_anuncio</th>\n",
       "      <th>campanha</th>\n",
       "      <th>faixa_etária</th>\n",
       "      <th>sexo</th>\n",
       "      <th>categoria_de_interesse</th>\n",
       "      <th>qte_de_impressões</th>\n",
       "      <th>qte_de_clicks</th>\n",
       "      <th>valor_investido_no_anúncio</th>\n",
       "      <th>Qte_de_Vendas_após_Clique</th>\n",
       "    </tr>\n",
       "  </thead>\n",
       "  <tbody>\n",
       "    <tr>\n",
       "      <th>0</th>\n",
       "      <td>708746</td>\n",
       "      <td>Campanha A</td>\n",
       "      <td>30-34</td>\n",
       "      <td>M</td>\n",
       "      <td>15</td>\n",
       "      <td>7350</td>\n",
       "      <td>1</td>\n",
       "      <td>1.43</td>\n",
       "      <td>3</td>\n",
       "    </tr>\n",
       "    <tr>\n",
       "      <th>1</th>\n",
       "      <td>708749</td>\n",
       "      <td>Campanha A</td>\n",
       "      <td>30-34</td>\n",
       "      <td>M</td>\n",
       "      <td>16</td>\n",
       "      <td>17861</td>\n",
       "      <td>2</td>\n",
       "      <td>1.82</td>\n",
       "      <td>2</td>\n",
       "    </tr>\n",
       "    <tr>\n",
       "      <th>2</th>\n",
       "      <td>708771</td>\n",
       "      <td>Campanha A</td>\n",
       "      <td>30-34</td>\n",
       "      <td>M</td>\n",
       "      <td>20</td>\n",
       "      <td>693</td>\n",
       "      <td>0</td>\n",
       "      <td>0.00</td>\n",
       "      <td>0</td>\n",
       "    </tr>\n",
       "    <tr>\n",
       "      <th>3</th>\n",
       "      <td>708815</td>\n",
       "      <td>Campanha A</td>\n",
       "      <td>30-34</td>\n",
       "      <td>M</td>\n",
       "      <td>28</td>\n",
       "      <td>4259</td>\n",
       "      <td>1</td>\n",
       "      <td>1.25</td>\n",
       "      <td>1</td>\n",
       "    </tr>\n",
       "    <tr>\n",
       "      <th>4</th>\n",
       "      <td>708818</td>\n",
       "      <td>Campanha A</td>\n",
       "      <td>30-34</td>\n",
       "      <td>M</td>\n",
       "      <td>28</td>\n",
       "      <td>4133</td>\n",
       "      <td>1</td>\n",
       "      <td>1.29</td>\n",
       "      <td>2</td>\n",
       "    </tr>\n",
       "  </tbody>\n",
       "</table>\n",
       "</div>"
      ],
      "text/plain": [
       "\n",
       "   id_do_anuncio    campanha faixa_etária sexo  categoria_de_interesse  \\\n",
       "\u001b[1;36m0\u001b[0m         \u001b[1;36m708746\u001b[0m  Campanha A        \u001b[1;36m30\u001b[0m-\u001b[1;36m34\u001b[0m    M                      \u001b[1;36m15\u001b[0m   \n",
       "\u001b[1;36m1\u001b[0m         \u001b[1;36m708749\u001b[0m  Campanha A        \u001b[1;36m30\u001b[0m-\u001b[1;36m34\u001b[0m    M                      \u001b[1;36m16\u001b[0m   \n",
       "\u001b[1;36m2\u001b[0m         \u001b[1;36m708771\u001b[0m  Campanha A        \u001b[1;36m30\u001b[0m-\u001b[1;36m34\u001b[0m    M                      \u001b[1;36m20\u001b[0m   \n",
       "\u001b[1;36m3\u001b[0m         \u001b[1;36m708815\u001b[0m  Campanha A        \u001b[1;36m30\u001b[0m-\u001b[1;36m34\u001b[0m    M                      \u001b[1;36m28\u001b[0m   \n",
       "\u001b[1;36m4\u001b[0m         \u001b[1;36m708818\u001b[0m  Campanha A        \u001b[1;36m30\u001b[0m-\u001b[1;36m34\u001b[0m    M                      \u001b[1;36m28\u001b[0m   \n",
       "\n",
       "   qte_de_impressões  qte_de_clicks  valor_investido_no_anúncio  \\\n",
       "\u001b[1;36m0\u001b[0m               \u001b[1;36m7350\u001b[0m              \u001b[1;36m1\u001b[0m                        \u001b[1;36m1.43\u001b[0m   \n",
       "\u001b[1;36m1\u001b[0m              \u001b[1;36m17861\u001b[0m              \u001b[1;36m2\u001b[0m                        \u001b[1;36m1.82\u001b[0m   \n",
       "\u001b[1;36m2\u001b[0m                \u001b[1;36m693\u001b[0m              \u001b[1;36m0\u001b[0m                        \u001b[1;36m0.00\u001b[0m   \n",
       "\u001b[1;36m3\u001b[0m               \u001b[1;36m4259\u001b[0m              \u001b[1;36m1\u001b[0m                        \u001b[1;36m1.25\u001b[0m   \n",
       "\u001b[1;36m4\u001b[0m               \u001b[1;36m4133\u001b[0m              \u001b[1;36m1\u001b[0m                        \u001b[1;36m1.29\u001b[0m   \n",
       "\n",
       "   Qte_de_Vendas_após_Clique  \n",
       "\u001b[1;36m0\u001b[0m                          \u001b[1;36m3\u001b[0m  \n",
       "\u001b[1;36m1\u001b[0m                          \u001b[1;36m2\u001b[0m  \n",
       "\u001b[1;36m2\u001b[0m                          \u001b[1;36m0\u001b[0m  \n",
       "\u001b[1;36m3\u001b[0m                          \u001b[1;36m1\u001b[0m  \n",
       "\u001b[1;36m4\u001b[0m                          \u001b[1;36m2\u001b[0m  "
      ]
     },
     "execution_count": 14,
     "metadata": {},
     "output_type": "execute_result"
    }
   ],
   "source": [
    "df_campanha = catalog.load(\"campanhas\")\n",
    "df_campanha.head()"
   ]
  },
  {
   "cell_type": "code",
   "execution_count": null,
   "id": "60bc17dc",
   "metadata": {},
   "outputs": [],
   "source": [
    "df_campanha = df_campanha.rename(columns={\n",
    "    \"qte_de_impressões\": \"impressoes\",\n",
    "    \"qte_de_clicks\": \"cliques\",\n",
    "    \"valor_investido_no_anúncio\": \"custo\",\n",
    "    \"Qte_de_Vendas_após_Clique\": \"vendas\"\n",
    "})"
   ]
  },
  {
   "cell_type": "code",
   "execution_count": null,
   "id": "46d95267",
   "metadata": {},
   "outputs": [],
   "source": [
    "from unidecode import unidecode\n",
    "\n",
    "df_campanha.columns = [unidecode(col) for col in df_campanha.columns]"
   ]
  },
  {
   "cell_type": "code",
   "execution_count": null,
   "id": "140a4a5a",
   "metadata": {},
   "outputs": [],
   "source": [
    "df_campanha.head()"
   ]
  },
  {
   "cell_type": "markdown",
   "id": "89959343",
   "metadata": {},
   "source": [
    "#### Categorias"
   ]
  },
  {
   "cell_type": "code",
   "execution_count": 15,
   "id": "51eb0a63",
   "metadata": {},
   "outputs": [
    {
     "data": {
      "text/html": [
       "<pre style=\"white-space:pre;overflow-x:auto;line-height:normal;font-family:Menlo,'DejaVu Sans Mono',consolas,'Courier New',monospace\"><span style=\"color: #7fbfbf; text-decoration-color: #7fbfbf\">[09/09/25 23:18:57] </span><span style=\"color: #000080; text-decoration-color: #000080\">INFO    </span> Loading data from <span style=\"color: #ff8700; text-decoration-color: #ff8700\">categorias</span> <span style=\"font-weight: bold\">(</span>ExcelDataset<span style=\"font-weight: bold\">)</span><span style=\"color: #808000; text-decoration-color: #808000\">...</span>                    <span style=\"color: #7f7f7f; text-decoration-color: #7f7f7f\">data_catalog.py:1046</span>\n",
       "</pre>\n"
      ],
      "text/plain": [
       "\u001b[2;36m[09/09/25 23:18:57]\u001b[0m\u001b[2;36m \u001b[0m\u001b[34mINFO    \u001b[0m Loading data from \u001b[38;5;208mcategorias\u001b[0m \u001b[1m(\u001b[0mExcelDataset\u001b[1m)\u001b[0m\u001b[33m...\u001b[0m                    \u001b[2mdata_catalog.py\u001b[0m\u001b[2m:\u001b[0m\u001b[2m1046\u001b[0m\n"
      ]
     },
     "metadata": {},
     "output_type": "display_data"
    },
    {
     "data": {
      "text/html": [
       "<pre style=\"white-space:pre;overflow-x:auto;line-height:normal;font-family:Menlo,'DejaVu Sans Mono',consolas,'Courier New',monospace\"></pre>\n"
      ],
      "text/plain": []
     },
     "metadata": {},
     "output_type": "display_data"
    },
    {
     "data": {
      "text/html": [
       "<div>\n",
       "<style scoped>\n",
       "    .dataframe tbody tr th:only-of-type {\n",
       "        vertical-align: middle;\n",
       "    }\n",
       "\n",
       "    .dataframe tbody tr th {\n",
       "        vertical-align: top;\n",
       "    }\n",
       "\n",
       "    .dataframe thead th {\n",
       "        text-align: right;\n",
       "    }\n",
       "</style>\n",
       "<table border=\"1\" class=\"dataframe\">\n",
       "  <thead>\n",
       "    <tr style=\"text-align: right;\">\n",
       "      <th></th>\n",
       "      <th>categoria_de_interesse</th>\n",
       "      <th>descrição_da_categoria</th>\n",
       "    </tr>\n",
       "  </thead>\n",
       "  <tbody>\n",
       "    <tr>\n",
       "      <th>0</th>\n",
       "      <td>2</td>\n",
       "      <td>Business and Industry</td>\n",
       "    </tr>\n",
       "    <tr>\n",
       "      <th>1</th>\n",
       "      <td>7</td>\n",
       "      <td>NaN</td>\n",
       "    </tr>\n",
       "    <tr>\n",
       "      <th>2</th>\n",
       "      <td>10</td>\n",
       "      <td>NaN</td>\n",
       "    </tr>\n",
       "    <tr>\n",
       "      <th>3</th>\n",
       "      <td>15</td>\n",
       "      <td>NaN</td>\n",
       "    </tr>\n",
       "    <tr>\n",
       "      <th>4</th>\n",
       "      <td>16</td>\n",
       "      <td>Entertainment</td>\n",
       "    </tr>\n",
       "  </tbody>\n",
       "</table>\n",
       "</div>"
      ],
      "text/plain": [
       "\n",
       "   categoria_de_interesse  descrição_da_categoria\n",
       "\u001b[1;36m0\u001b[0m                       \u001b[1;36m2\u001b[0m  Business and Industry \n",
       "\u001b[1;36m1\u001b[0m                       \u001b[1;36m7\u001b[0m                     NaN\n",
       "\u001b[1;36m2\u001b[0m                      \u001b[1;36m10\u001b[0m                     NaN\n",
       "\u001b[1;36m3\u001b[0m                      \u001b[1;36m15\u001b[0m                     NaN\n",
       "\u001b[1;36m4\u001b[0m                      \u001b[1;36m16\u001b[0m          Entertainment "
      ]
     },
     "execution_count": 15,
     "metadata": {},
     "output_type": "execute_result"
    }
   ],
   "source": [
    "df_categorias = catalog.load(\"categorias\")\n",
    "df_categorias.head()"
   ]
  },
  {
   "cell_type": "code",
   "execution_count": null,
   "id": "2bb635a4",
   "metadata": {},
   "outputs": [],
   "source": [
    "df_categorias.columns = [unidecode(col) for col in df_categorias.columns]\n",
    "df_categorias"
   ]
  },
  {
   "cell_type": "markdown",
   "id": "18ae84c0",
   "metadata": {},
   "source": [
    "Provável que estivessem usando celulas mescladas no excel, tendo texto apenas na primeira linha da mescla. Um ffill resolve isso."
   ]
  },
  {
   "cell_type": "markdown",
   "id": "7b6fdf7d",
   "metadata": {},
   "source": [
    "#### Categoria Detalhada"
   ]
  },
  {
   "cell_type": "code",
   "execution_count": null,
   "id": "e3dc627f",
   "metadata": {},
   "outputs": [],
   "source": [
    "df_categoria_detalhada = catalog.load(\"categoria_detalhada\")\n",
    "df_categoria_detalhada.head(20)"
   ]
  },
  {
   "cell_type": "markdown",
   "id": "365cc504",
   "metadata": {},
   "source": [
    "- *Comportamento estranho das categorias*\n",
    "\n",
    "A base de categoria parece ser mais abrangente e a Planilha 8 mais detalhada. Porém ambas tem diversos registros nulos e em Planilha8 não há uma referência de número da categoria.\n",
    "\n",
    "Olhando pela planilha, na aba depara_categoria parece que Business and Industry se aplicaria às próximas 3 linhas também, que poderia ser usado um ffill pra preencher, mas assim teriamos diversos números de categorias de interesse com descrição repetida.\n",
    "\n",
    "Enquanto se olharmos a planilha 8, dá pra ver que dentro de business industry temos 17 outras quebras, ou um tree map, onde as linhas sequenciadas representam subcategorias, mas que não se encaixaria nas 3 descrições nulas da aba de categorias."
   ]
  },
  {
   "cell_type": "markdown",
   "id": "aaa82737",
   "metadata": {},
   "source": [
    "### Decisão de como cruzar as categorias com suas descrições"
   ]
  },
  {
   "cell_type": "code",
   "execution_count": null,
   "id": "d2557623",
   "metadata": {},
   "outputs": [],
   "source": [
    "df_campanha[\"categoria_de_interesse\"] = df_campanha[\"categoria_de_interesse\"].astype(\"category\")\n",
    "df_campanha[[\"categoria_de_interesse\"]].describe()"
   ]
  },
  {
   "cell_type": "code",
   "execution_count": null,
   "id": "e72d9e41",
   "metadata": {},
   "outputs": [],
   "source": [
    "df_categoria_detalhada.describe()"
   ]
  },
  {
   "cell_type": "code",
   "execution_count": null,
   "id": "c1a5da82",
   "metadata": {},
   "outputs": [],
   "source": [
    "df_categorias[\"descricao_da_categoria\"].describe()"
   ]
  },
  {
   "cell_type": "code",
   "execution_count": null,
   "id": "54960d70",
   "metadata": {},
   "outputs": [],
   "source": [
    "df_categorias[\"descricao_da_categoria\"].ffill().describe()"
   ]
  },
  {
   "cell_type": "markdown",
   "id": "d4618918",
   "metadata": {},
   "source": [
    "Dentre as categoiras presentes nas campanhas, são 40 valores únicos. Nas campanhas detalhadas da planilha8 existem 148 categorias e no df_cateogias são 9, porém realizando o preenchimento ffill ficariam 40 também, igual ao número presente nas campanhas, mas não seriam únicas.\n",
    "\n",
    "Vou usar a df_categorias com ffill pra dar join com a df_campanhas"
   ]
  },
  {
   "cell_type": "code",
   "execution_count": null,
   "id": "403042df",
   "metadata": {},
   "outputs": [],
   "source": [
    "df_categorias[\"descricao_da_categoria\"] = df_categorias[\"descricao_da_categoria\"].ffill()"
   ]
  },
  {
   "cell_type": "code",
   "execution_count": null,
   "id": "e953d665",
   "metadata": {},
   "outputs": [],
   "source": []
  },
  {
   "cell_type": "code",
   "execution_count": null,
   "id": "c200424f",
   "metadata": {},
   "outputs": [],
   "source": [
    "df_campanha_merged = (\n",
    "    df_campanha.merge(\n",
    "        df_categorias,\n",
    "        how=\"left\",\n",
    "        on=\"categoria_de_interesse\"\n",
    "    )\n",
    ")"
   ]
  },
  {
   "cell_type": "code",
   "execution_count": 7,
   "id": "84a79fa8",
   "metadata": {},
   "outputs": [],
   "source": [
    "import sys\n",
    "sys.path.append(\"..\")\n",
    "from src.otimizacao_de_ads_para_startup.pipelines.data_processing.nodes import *\n"
   ]
  },
  {
   "cell_type": "code",
   "execution_count": 16,
   "id": "3bbe9970",
   "metadata": {},
   "outputs": [],
   "source": [
    "\n",
    "df_perfil = process_df_perfil(df_campanha, df_categorias)\n"
   ]
  },
  {
   "cell_type": "markdown",
   "id": "a54a2ef6",
   "metadata": {},
   "source": [
    "## Análise Descritiva"
   ]
  },
  {
   "cell_type": "code",
   "execution_count": 19,
   "id": "d2be0c06",
   "metadata": {},
   "outputs": [],
   "source": [
    "df_perfil.to_csv(\"df_perfil.csv\", index=False)"
   ]
  },
  {
   "cell_type": "code",
   "execution_count": null,
   "id": "65d4b475",
   "metadata": {},
   "outputs": [],
   "source": [
    "# Ajustar a \"categoria_de_interesse\" pra categorica\n",
    "df_campanha_merged[\"categoria_de_interesse\"] = df_campanha_merged[\"categoria_de_interesse\"].astype(\"category\")\n",
    "df_campanha_merged.info()"
   ]
  },
  {
   "cell_type": "code",
   "execution_count": null,
   "id": "f442599a",
   "metadata": {},
   "outputs": [],
   "source": [
    "df_campanha_merged.head()"
   ]
  },
  {
   "cell_type": "code",
   "execution_count": null,
   "id": "740b01e3",
   "metadata": {},
   "outputs": [],
   "source": [
    "def full_describe(df) -> None:\n",
    "    print(\"Info\")\n",
    "    print(df.info())\n",
    "    print(\"\\ndescribe de categóricas\")\n",
    "    display(df.describe(include=[\"object\", \"category\"]))\n",
    "    print(\"\\ndescribe de numéricas\")\n",
    "    display(df.describe(include=\"number\"))\n",
    "    print(\"\\nHead\")\n",
    "    display(df.head())\n",
    "\n",
    "# Verificando valores únicos nas colunas categóricas\n",
    "def value_counts(df) -> None:\n",
    "\n",
    "    print(\"=== VALORES ÚNICOS NAS COLUNAS CATEGÓRICAS ===\")\n",
    "\n",
    "    for coluna in df.select_dtypes(include=[\"object\", \"category\"]).columns:\n",
    "        vc = df[coluna].value_counts().reset_index()\n",
    "        vc.columns = [coluna, \"qtd\"]\n",
    "        vc[\"percentual\"] = (vc[\"qtd\"] / vc[\"qtd\"].sum() * 100).round(2)\n",
    "        display(vc)\n"
   ]
  },
  {
   "cell_type": "code",
   "execution_count": null,
   "id": "28420f2b",
   "metadata": {},
   "outputs": [],
   "source": [
    "full_describe(df_campanha_merged)"
   ]
  },
  {
   "cell_type": "code",
   "execution_count": null,
   "id": "136ea88c",
   "metadata": {},
   "outputs": [],
   "source": [
    "value_counts(df_campanha_merged)"
   ]
  },
  {
   "cell_type": "markdown",
   "id": "87ffbf1f",
   "metadata": {},
   "source": [
    "Como queremos identificar os melhores perfis pra uma nova campanha, acredito que seja melhor remover a coluna de campanha e id_do_anuncio pra agrupar tudo por perfil (faixa_etária, sexo e descrição_da_categoria).\n",
    "\n",
    "Mas antes, quero validar se o desempenho dos perfis são parecidos em diferentes campanhas."
   ]
  },
  {
   "cell_type": "code",
   "execution_count": null,
   "id": "25376d54",
   "metadata": {},
   "outputs": [],
   "source": [
    "df_campanha_merged[\"perfil\"] = (\n",
    "    df_campanha_merged[\"faixa_etaria\"].astype(str) + \" | \" +\n",
    "    df_campanha_merged[\"sexo\"].astype(str) + \" | \" +\n",
    "    df_campanha_merged[\"categoria_de_interesse\"].astype(str)\n",
    ")"
   ]
  },
  {
   "cell_type": "markdown",
   "id": "0dd6847b",
   "metadata": {},
   "source": [
    "Também precisamos de métricas melhores pra fazer as comparações. Usaremos algumas métricas padrões em marketing"
   ]
  },
  {
   "cell_type": "code",
   "execution_count": null,
   "id": "fd5a2e5b",
   "metadata": {},
   "outputs": [],
   "source": [
    "# Valor de venda do curso definido na apresentação do problema (disponível no Readme).\n",
    "VALOR_VENDA = 85\n",
    "\n",
    "# Calculando os KPIs\n",
    "df_campanha_merged[\"faturamento\"] = df_campanha_merged[\"vendas\"] * VALOR_VENDA   # Receita total gerada pelas vendas\n",
    "df_campanha_merged[\"lucro\"] = df_campanha_merged[\"faturamento\"] - df_campanha_merged[\"custo\"]   # Lucro líquido = receita - custo do anúncio\n",
    "df_campanha_merged[\"ctr\"] = (df_campanha_merged[\"cliques\"] / df_campanha_merged[\"impressoes\"])   # Click Through Rate (%) = % de impressões que geraram clique\n",
    "df_campanha_merged[\"tc\"] = (df_campanha_merged[\"vendas\"] / df_campanha_merged[\"cliques\"]) # Taxa de conversão (%) = % de cliques que geraram venda\n",
    "df_campanha_merged[\"cpc\"] = df_campanha_merged[\"custo\"] / df_campanha_merged[\"cliques\"]   # Custo por clique médio\n",
    "df_campanha_merged[\"cc\"] = df_campanha_merged[\"custo\"] / df_campanha_merged[\"vendas\"]   # Custo por conversão (venda)\n",
    "df_campanha_merged[\"roi\"] = (df_campanha_merged[\"faturamento\"] - df_campanha_merged[\"custo\"]) / df_campanha_merged[\"custo\"]   # Retorno sobre investimento (%) = lucro / custo * 100\n",
    "df_campanha_merged[\"conv_i\"] = df_campanha_merged[\"vendas\"] / df_campanha_merged[\"impressoes\"]  # Taxa de conversão por impressão"
   ]
  },
  {
   "cell_type": "code",
   "execution_count": null,
   "id": "c31ec54b",
   "metadata": {},
   "outputs": [],
   "source": [
    "df_campanha_merged.head()"
   ]
  },
  {
   "cell_type": "code",
   "execution_count": null,
   "id": "ac7a0fa3",
   "metadata": {},
   "outputs": [],
   "source": [
    "df_campanha_merged.sort_values(by=\"perfil\", ascending=True).head(20)"
   ]
  },
  {
   "cell_type": "markdown",
   "id": "5ecb14c9",
   "metadata": {},
   "source": [
    "Podemos identificar acima que existem valores diferentes pra um mesmo perfil dentro de uma mesma campanha. Isso pode acontecer por haver mais de um design usado pro mesmo perfil na mesma campanhas.\n",
    "Além disso, os desempenhos de cada design tiveram diferenças relevantes. Caso tivessemos uma base que indicasse quais designes foram usados em quais id_de_anuncios, poderíamos explorar, além do perfil de usuário, qual design teve melhor desempenho.\n",
    "\n",
    "Como não temos tais informações, agruparei o desempenho dos perfis, ignorando o id do anuncio e a campanha."
   ]
  },
  {
   "cell_type": "code",
   "execution_count": null,
   "id": "bd7fa55c",
   "metadata": {},
   "outputs": [],
   "source": [
    "df_perfil = (\n",
    "    df_campanha_merged.groupby(\n",
    "        [\"faixa_etaria\",\n",
    "         \"sexo\",\n",
    "         \"categoria_de_interesse\",\n",
    "         \"descricao_da_categoria\",\n",
    "         \"perfil\"],\n",
    "         observed=True\n",
    "    )\n",
    "    .agg({\n",
    "        \"impressoes\": \"sum\",\n",
    "        \"cliques\": \"sum\",\n",
    "        \"custo\": \"sum\",\n",
    "        \"vendas\": \"sum\"}\n",
    "    )\n",
    "    .reset_index()\n",
    ")"
   ]
  },
  {
   "cell_type": "code",
   "execution_count": null,
   "id": "bdf94a02",
   "metadata": {},
   "outputs": [],
   "source": [
    "df_perfil[\"faturamento\"] = df_perfil[\"vendas\"] * VALOR_VENDA   # Receita total gerada pelas vendas\n",
    "df_perfil[\"lucro\"] = df_perfil[\"faturamento\"] - df_perfil[\"custo\"]   # Lucro líquido = receita - custo do anúncio\n",
    "df_perfil[\"ctr\"] = (df_perfil[\"cliques\"] / df_perfil[\"impressoes\"])   # Click Through Rate (%) = % de impressões que geraram clique\n",
    "df_perfil[\"tc\"] = (df_perfil[\"vendas\"] / df_perfil[\"cliques\"]) # Taxa de conversão (%) = % de cliques que geraram venda\n",
    "df_perfil[\"cpc\"] = df_perfil[\"custo\"] / df_perfil[\"cliques\"]   # Custo por clique médio\n",
    "df_perfil[\"cc\"] = df_perfil[\"custo\"] / df_perfil[\"vendas\"]   # Custo por conversão (venda)\n",
    "df_perfil[\"roi\"] = (df_perfil[\"faturamento\"] - df_perfil[\"custo\"]) / df_perfil[\"custo\"]   # Retorno sobre investimento (%) = lucro / custo * 100\n",
    "df_perfil[\"conversao\"] = df_perfil[\"vendas\"] / df_perfil[\"impressoes\"]  # Taxa de conversão por impressão"
   ]
  },
  {
   "cell_type": "code",
   "execution_count": null,
   "id": "71c1af38",
   "metadata": {},
   "outputs": [],
   "source": [
    "full_describe(df_perfil)"
   ]
  },
  {
   "cell_type": "markdown",
   "id": "08bd3e25",
   "metadata": {},
   "source": [
    "Temos que nos atentar aos valores infinitos gerados em cc por conta da divisão por zero. Vou substituir por nulo "
   ]
  },
  {
   "cell_type": "code",
   "execution_count": null,
   "id": "46686ea8",
   "metadata": {},
   "outputs": [],
   "source": [
    "df_perfil[\"cc\"] = df_perfil[\"cc\"].replace([np.inf, -np.inf], np.nan)"
   ]
  },
  {
   "cell_type": "code",
   "execution_count": null,
   "id": "f1fb111a",
   "metadata": {},
   "outputs": [],
   "source": [
    "value_counts(df_perfil)"
   ]
  },
  {
   "cell_type": "markdown",
   "id": "dc7ad268",
   "metadata": {},
   "source": [
    "#### KPIs"
   ]
  },
  {
   "cell_type": "code",
   "execution_count": null,
   "id": "3f80f292",
   "metadata": {},
   "outputs": [],
   "source": [
    "df_perfil.head()"
   ]
  },
  {
   "cell_type": "markdown",
   "id": "b6454389",
   "metadata": {},
   "source": [
    "Exportação"
   ]
  },
  {
   "cell_type": "code",
   "execution_count": null,
   "id": "9f4146f7",
   "metadata": {},
   "outputs": [],
   "source": []
  },
  {
   "cell_type": "code",
   "execution_count": null,
   "id": "4aa3bbc1",
   "metadata": {},
   "outputs": [],
   "source": [
    "# Identificando colunas quantitativas\n",
    "colunas_quantitativas = df_campanha.select_dtypes(include=[np.number]).columns\n",
    "\n",
    "# Criando histogramas\n",
    "fig, axes = plt.subplots(2, 4, figsize=(20, 12))\n",
    "axes = axes.ravel()\n",
    "\n",
    "for i, coluna in enumerate(colunas_quantitativas):\n",
    "    if i < 8:  # Limitando a 8 gráficos\n",
    "        axes[i].hist(df_campanha[coluna], bins=20, alpha=0.7, edgecolor=\"black\")\n",
    "        axes[i].set_title(f\"Distribuição de {coluna}\")\n",
    "        axes[i].set_xlabel(coluna)\n",
    "        axes[i].set_ylabel(\"Frequência\")\n",
    "        axes[i].grid(True, alpha=0.3)\n",
    "\n",
    "plt.tight_layout()\n",
    "plt.show()"
   ]
  },
  {
   "cell_type": "code",
   "execution_count": null,
   "id": "338da638",
   "metadata": {},
   "outputs": [],
   "source": [
    "\n",
    "print(\"=== MEDIDAS RESUMO DAS VARIÁVEIS QUANTITATIVAS ===\")\n",
    "medidas_resumo = df_campanha[colunas_quantitativas].describe()\n",
    "display(medidas_resumo.round(2))"
   ]
  },
  {
   "cell_type": "code",
   "execution_count": null,
   "id": "8db4c192",
   "metadata": {},
   "outputs": [],
   "source": [
    "# Matriz de correlação\n",
    "correlacao = df_campanha[colunas_quantitativas].corr()\n",
    "\n",
    "plt.figure(figsize=(12, 10))\n",
    "sns.heatmap(correlacao, annot=True, cmap=\"coolwarm\", center=0,\n",
    "            square=True, linewidths=0.5, cbar_kws={\"shrink\": .8})\n",
    "plt.title(\"Matriz de Correlação entre Variáveis Quantitativas\")\n",
    "plt.tight_layout()\n",
    "plt.show()"
   ]
  },
  {
   "cell_type": "code",
   "execution_count": null,
   "id": "f6494433",
   "metadata": {},
   "outputs": [],
   "source": [
    "\n",
    "print(\"\\n=== CORRELAÇÕES MAIS FORTES ===\")\n",
    "# Encontrando as correlações mais fortes (excluindo correlação com ela mesma)\n",
    "correlacoes = []\n",
    "for i in range(len(correlacao.columns)):\n",
    "    for j in range(i+1, len(correlacao.columns)):\n",
    "        correlacoes.append((\n",
    "            correlacao.columns[i],\n",
    "            correlacao.columns[j],\n",
    "            correlacao.iloc[i, j]\n",
    "        ))\n",
    "\n",
    "correlacoes_df = pd.DataFrame(correlacoes, columns=[\"Variável 1\", \"Variável 2\", \"Correlação\"])\n",
    "correlacoes_df = correlacoes_df.sort_values(\"Correlação\", key=abs, ascending=False)\n",
    "display(correlacoes_df.head(15).round(3))\n"
   ]
  },
  {
   "cell_type": "code",
   "execution_count": null,
   "id": "07a0b95f",
   "metadata": {},
   "outputs": [],
   "source": [
    "\n",
    "# Análise de ROI por segmentação\n",
    "print(\"=== ANÁLISE DE ROI POR SEGMENTAÇÃO ===\")\n",
    "\n",
    "for coluna_qual in colunas_qualitativas:\n",
    "    print(f\"\\nROI por {coluna_qual}:\")\n",
    "    roi_por_grupo = df_campanha.groupby(coluna_qual)[\"roi\"].agg([\"mean\", \"std\", \"count\"]).round(2)\n",
    "    roi_por_grupo.columns = [\"ROI Médio (%)\", \"Desvio Padrão\", \"Quantidade\"]\n",
    "    print(roi_por_grupo)\n",
    "\n",
    "    # Gráfico de boxplot\n",
    "    plt.figure(figsize=(10, 6))\n",
    "    df_campanha.boxplot(column=\"roi\", by=coluna_qual, figsize=(10, 6))\n",
    "    plt.title(f\"Distribuição do ROI por {coluna_qual}\")\n",
    "    plt.suptitle(\"\")  # Remove o título automático\n",
    "    plt.show()\n"
   ]
  },
  {
   "cell_type": "code",
   "execution_count": null,
   "id": "50ae61e6",
   "metadata": {},
   "outputs": [],
   "source": [
    "# Calculando métricas do funil de vendas\n",
    "print(\"=== FUNIL DE VENDAS GERAL ===\")\n",
    "\n",
    "total_impressoes = df_campanha[\"impressoes\"].sum()\n",
    "total_cliques = df_campanha[\"cliques\"].sum()\n",
    "total_vendas = df_campanha[\"vendas\"].sum()\n",
    "total_custo = df_campanha[\"custo\"].sum()\n",
    "\n",
    "ctr_geral = (total_cliques / total_impressoes) * 100\n",
    "tc_geral = (total_vendas / total_cliques) * 100\n",
    "roi_geral = ((total_vendas * VALOR_VENDA - total_custo) / total_custo) * 100\n",
    "\n",
    "print(f\"Total de Impressões: {total_impressoes:,}\")\n",
    "print(f\"Total de Cliques: {total_cliques:,}\")\n",
    "print(f\"Total de Vendas: {total_vendas:,}\")\n",
    "print(f\"CTR Geral: {ctr_geral:.2f}%\")\n",
    "print(f\"Taxa de Conversão Geral: {tc_geral:.2f}%\")\n",
    "print(f\"ROI Geral: {roi_geral:.2f}%\")\n",
    "print(f\"Custo Total: R$ {total_custo:,.2f}\")\n",
    "print(f\"Faturamento Total: R$ {total_vendas * VALOR_VENDA:,.2f}\")\n",
    "print(f\"Lucro Total: R$ {total_vendas * VALOR_VENDA - total_custo:,.2f}\")"
   ]
  },
  {
   "cell_type": "code",
   "execution_count": null,
   "id": "ab664928",
   "metadata": {},
   "outputs": [],
   "source": [
    "\n",
    "# Visualizando o funil de vendas\n",
    "fig, (ax1, ax2) = plt.subplots(1, 2, figsize=(15, 6))\n",
    "\n",
    "# Gráfico de barras do funil\n",
    "etapas = [\"Impressões\", \"Cliques\", \"Vendas\"]\n",
    "valores = [total_impressoes, total_cliques, total_vendas]\n",
    "percentuais = [100, ctr_geral, tc_geral]\n",
    "\n",
    "ax1.bar(etapas, valores, color=[\"#FF6B6B\", \"#4ECDC4\", \"#45B7D1\"])\n",
    "ax1.set_title(\"Funil de Vendas - Valores Absolutos\")\n",
    "ax1.set_ylabel(\"Quantidade\")\n",
    "for i, v in enumerate(valores):\n",
    "    ax1.text(i, v + max(valores)*0.01, f\"{v:,}\", ha=\"center\", va=\"bottom\")\n",
    "\n",
    "# Gráfico de percentuais\n",
    "ax2.bar(etapas, percentuais, color=[\"#FF6B6B\", \"#4ECDC4\", \"#45B7D1\"])\n",
    "ax2.set_title(\"Funil de Vendas - Percentuais\")\n",
    "ax2.set_ylabel(\"Percentual (%)\")\n",
    "for i, v in enumerate(percentuais):\n",
    "    ax2.text(i, v + 1, f\"{v:.2f}%\", ha=\"center\", va=\"bottom\")\n",
    "\n",
    "plt.tight_layout()\n",
    "plt.show()\n"
   ]
  },
  {
   "cell_type": "markdown",
   "id": "90b50ef5",
   "metadata": {},
   "source": [
    "## Dados de Pesquisa"
   ]
  },
  {
   "cell_type": "markdown",
   "id": "a9784933",
   "metadata": {},
   "source": [
    "### Base Pesquisa"
   ]
  },
  {
   "cell_type": "code",
   "execution_count": null,
   "id": "84a763bf",
   "metadata": {},
   "outputs": [],
   "source": [
    "# Dados da pesquisa de mercado\n",
    "excel_pesquisa = pd.read_excel(caminho_dados / \"dados_pesquisa.xlsx\", sheet_name=None)\n",
    "print(\"Resumo das abas encontradas:\")\n",
    "for nome, df in excel_pesquisa.items():\n",
    "    print(f\"{nome} | Shape: {df.shape}\")\n"
   ]
  },
  {
   "cell_type": "code",
   "execution_count": null,
   "id": "67a9bafb",
   "metadata": {},
   "outputs": [],
   "source": [
    "df_pesquisa_metadados = excel_pesquisa[\"Metadados\"]\n",
    "df_pesquisa_metadados"
   ]
  },
  {
   "cell_type": "code",
   "execution_count": null,
   "id": "0194c3f1",
   "metadata": {},
   "outputs": [],
   "source": [
    "df_pesquisa = excel_pesquisa[\"dados_da_campanha\"]\n",
    "df_pesquisa"
   ]
  },
  {
   "cell_type": "code",
   "execution_count": null,
   "id": "3d641b40",
   "metadata": {},
   "outputs": [],
   "source": [
    "df_pesquisa = df_pesquisa.set_index(\"id_do_respondente\")\n",
    "df_pesquisa"
   ]
  },
  {
   "cell_type": "code",
   "execution_count": null,
   "id": "7c8fb8c0",
   "metadata": {},
   "outputs": [],
   "source": [
    "full_describe(df_pesquisa)"
   ]
  },
  {
   "cell_type": "code",
   "execution_count": null,
   "id": "c3a1eb1e",
   "metadata": {},
   "outputs": [],
   "source": [
    "full_value_countes(df_pesquisa)"
   ]
  },
  {
   "cell_type": "code",
   "execution_count": null,
   "id": "c10f19ea",
   "metadata": {},
   "outputs": [],
   "source": [
    "# Análise do interesse no curso\n",
    "print(\"=== ANÁLISE DO INTERESSE NO CURSO ===\")\n",
    "\n",
    "# Verificando se existe coluna de interesse\n",
    "colunas_pesquisa = df_pesquisa.columns.tolist()\n",
    "print(f\"Colunas disponíveis: {colunas_pesquisa}\")\n"
   ]
  },
  {
   "cell_type": "code",
   "execution_count": null,
   "id": "7ceaaca2",
   "metadata": {},
   "outputs": [],
   "source": [
    "print(f\"\\nDistribuição de {\"interesse_no_Curso\"}:\")\n",
    "display(df_pesquisa[\"interesse_no_Curso\"].value_counts())\n",
    "print(f\"Percentual de interessados: {(df_pesquisa[\"interesse_no_Curso\"].value_counts(normalize=True) * 100).round(2)}\")\n"
   ]
  },
  {
   "cell_type": "code",
   "execution_count": null,
   "id": "4a1fb21e",
   "metadata": {},
   "outputs": [],
   "source": [
    "\n",
    "# Análise do preço que as pessoas pagariam\n",
    "print(\"=== ANÁLISE DO PREÇO ===\")\n",
    "\n",
    "# Procurando por colunas relacionadas ao preço\n",
    "colunas_preco = [col for col in colunas_pesquisa if \"preco\" in col.lower() or \"valor\" in col.lower() or \"pagaria\" in col.lower()]\n",
    "print(f\"Colunas de preço encontradas: {colunas_preco}\")\n",
    "\n",
    "if colunas_preco:\n",
    "    for col in colunas_preco:\n",
    "        print(f\"\\nEstatísticas de {col}:\")\n",
    "        print(df_pesquisa[col].describe())\n",
    "\n",
    "        # Histograma do preço\n",
    "        plt.figure(figsize=(10, 6))\n",
    "        plt.hist(df_pesquisa[col].dropna(), bins=20, alpha=0.7, edgecolor=\"black\")\n",
    "        plt.title(f\"Distribuição de {col}\")\n",
    "        plt.xlabel(\"Preço (R$)\")\n",
    "        plt.ylabel(\"Frequência\")\n",
    "        plt.grid(True, alpha=0.3)\n",
    "        plt.show()\n",
    "\n",
    "# 7.1 Análise do investimento necessário para dobrar as vendas\n",
    "print(\"=== ANÁLISE PARA DOBRAR AS VENDAS ===\")\n",
    "\n",
    "vendas_atual = total_vendas\n",
    "vendas_dobrar = vendas_atual * 2\n",
    "custo_atual = total_custo\n",
    "\n",
    "# Assumindo que a taxa de conversão se mantém\n",
    "cliques_necessarios = vendas_dobrar / (tc_geral / 100)\n",
    "custo_necessario = cliques_necessarios * (custo_atual / total_cliques)\n",
    "\n",
    "print(f\"Vendas atuais: {vendas_atual:,}\")\n",
    "print(f\"Vendas desejadas: {vendas_dobrar:,}\")\n",
    "print(f\"Cliques necessários: {cliques_necessarios:,.0f}\")\n",
    "print(f\"Custo necessário: R$ {custo_necessario:,.2f}\")\n",
    "print(f\"Investimento adicional necessário: R$ {custo_necessario - custo_atual:,.2f}\")\n",
    "\n",
    "# 7.2 Análise da relação entre investimento e vendas\n",
    "print(\"=== RELAÇÃO ENTRE INVESTIMENTO E VENDAS ===\")\n",
    "\n",
    "# Correlação entre custo e vendas\n",
    "correlacao_custo_vendas = df_campanha[\"custo\"].corr(df_campanha[\"vendas\"])\n",
    "print(f\"Correlação entre custo e vendas: {correlacao_custo_vendas:.3f}\")\n",
    "\n",
    "# Gráfico de dispersão\n",
    "plt.figure(figsize=(10, 6))\n",
    "plt.scatter(df_campanha[\"custo\"], df_campanha[\"vendas\"], alpha=0.6)\n",
    "plt.xlabel(\"Custo da Campanha (R$)\")\n",
    "plt.ylabel(\"Vendas Realizadas\")\n",
    "plt.title(\"Relação entre Custo da Campanha e Vendas\")\n",
    "plt.grid(True, alpha=0.3)\n",
    "\n",
    "# Linha de tendência\n",
    "z = np.polyfit(df_campanha[\"custo\"], df_campanha[\"vendas\"], 1)\n",
    "p = np.poly1d(z)\n",
    "plt.plot(df_campanha[\"custo\"], p(df_campanha[\"custo\"]), \"r--\", alpha=0.8)\n",
    "\n",
    "plt.show()\n",
    "\n",
    "# Análise de desperdício (campanhas com baixa taxa de conversão)\n",
    "print(\"\\n=== ANÁLISE DE DESPERDÍCIO ===\")\n",
    "campanhas_baixa_conversao = df_campanha[df_campanha[\"tc\"] < df_campanha[\"tc\"].median()]\n",
    "print(f\"Campanhas com baixa conversão (< mediana): {len(campanhas_baixa_conversao)}\")\n",
    "print(f\"Custo total em campanhas de baixa conversão: R$ {campanhas_baixa_conversao['custo'].sum():,.2f}\")\n",
    "print(f\"Percentual do custo total: {(campanhas_baixa_conversao['custo'].sum() / total_custo * 100):.2f}%\")\n",
    "\n",
    "# 7.3 Análise de perfis com maior ROI\n",
    "print(\"=== PERFIS COM MAIOR ROI ===\")\n",
    "\n",
    "# Top 10 campanhas com maior ROI\n",
    "top_roi = df_campanha.nlargest(10, \"roi\")[[\"idade\", \"sexo\", \"interesses\", \"roi\", \"custo\", \"vendas\"]]\n",
    "print(\"Top 10 campanhas com maior ROI:\")\n",
    "print(top_roi.round(2))\n",
    "\n",
    "# Análise por combinação de variáveis\n",
    "if \"idade\" in df_campanha.columns and \"sexo\" in df_campanha.columns:\n",
    "    print(\"\\nROI por combinação de Idade e Sexo:\")\n",
    "    roi_idade_sexo = df_campanha.groupby([\"idade\", \"sexo\"])[\"roi\"].agg([\"mean\", \"count\"]).round(2)\n",
    "    roi_idade_sexo.columns = [\"ROI Médio (%)\", \"Quantidade de Campanhas\"]\n",
    "    print(roi_idade_sexo.sort_values(\"ROI Médio (%)\", ascending=False))\n",
    "\n",
    "if \"interesses\" in df_campanha.columns:\n",
    "    print(\"\\nROI por Interesses:\")\n",
    "    roi_interesses = df_campanha.groupby(\"interesses\")[\"roi\"].agg([\"mean\", \"count\"]).round(2)\n",
    "    roi_interesses.columns = [\"ROI Médio (%)\", \"Quantidade de Campanhas\"]\n",
    "    print(roi_interesses.sort_values(\"ROI Médio (%)\", ascending=False))\n",
    "\n",
    "# Análise para alocação da verba\n",
    "print(\"=== RECOMENDAÇÕES PARA ALOCAÇÃO DA VERBA ===\")\n",
    "\n",
    "VERBA_TOTAL = 20000\n",
    "\n",
    "# Identificando os melhores perfis baseado no ROI\n",
    "melhores_perfis = df_campanha.groupby([\"idade\", \"sexo\", \"interesses\"]).agg({\n",
    "    \"roi\": \"mean\",\n",
    "    \"custo\": \"mean\",\n",
    "    \"vendas\": \"mean\",\n",
    "    \"ctr\": \"mean\",\n",
    "    \"tc\": \"mean\"\n",
    "}).round(2)\n",
    "\n",
    "melhores_perfis = melhores_perfis.sort_values(\"roi\", ascending=False)\n",
    "print(\"Melhores perfis baseado no ROI:\")\n",
    "print(melhores_perfis.head(10))\n",
    "\n",
    "# Sugestão de alocação baseada no ROI\n",
    "print(f\"\\n=== SUGESTÃO DE ALOCAÇÃO DA VERBA DE R$ {VERBA_TOTAL:,.2f} ===\")\n",
    "\n",
    "# Alocando mais verba para perfis com maior ROI\n",
    "top_perfis = melhores_perfis.head(5)\n",
    "total_roi_top = top_perfis[\"roi\"].sum()\n",
    "\n",
    "for i, (perfil, dados) in enumerate(top_perfis.iterrows()):\n",
    "    # Alocação proporcional ao ROI\n",
    "    alocacao = (dados[\"roi\"] / total_roi_top) * VERBA_TOTAL\n",
    "    print(f\"\\nPerfil {i+1}: {perfil}\")\n",
    "    print(f\"  ROI médio: {dados['roi']:.2f}%\")\n",
    "    print(f\"  Alocação sugerida: R$ {alocacao:,.2f}\")\n",
    "    print(f\"  Vendas esperadas: {alocacao / dados['custo'] * dados['vendas']:.0f}\")\n",
    "    print(f\"  Lucro esperado: R$ {alocacao / dados['custo'] * dados['vendas'] * VALOR_VENDA - alocacao:,.2f}\")\n",
    "\n",
    "print(\"\\n=== ANÁLISE CONCLUÍDA ===\")\n",
    "print(\"Principais descobertas e recomendações foram apresentadas acima.\")\n",
    "print(\"Considere implementar as sugestões de alocação da verba para maximizar o ROI.\")\n"
   ]
  },
  {
   "cell_type": "code",
   "execution_count": null,
   "id": "b6a931a8",
   "metadata": {},
   "outputs": [],
   "source": []
  }
 ],
 "metadata": {
  "kernelspec": {
   "display_name": "otimizacao-de-ads-para-startup",
   "language": "python",
   "name": "python3"
  },
  "language_info": {
   "codemirror_mode": {
    "name": "ipython",
    "version": 3
   },
   "file_extension": ".py",
   "mimetype": "text/x-python",
   "name": "python",
   "nbconvert_exporter": "python",
   "pygments_lexer": "ipython3",
   "version": "3.11.7"
  }
 },
 "nbformat": 4,
 "nbformat_minor": 5
}
